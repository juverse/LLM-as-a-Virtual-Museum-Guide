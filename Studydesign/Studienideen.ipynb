{
 "cells": [
  {
   "cell_type": "markdown",
   "metadata": {},
   "source": [
    "Studieideen\n",
    "\n",
    "1) mulimodlaer assisant -> wie gut ist er\n",
    "2) multimodelra assisant-> verbessert lernen\n",
    "3) assisant vs. no assaint (normaler besuche rmit tablet)\n",
    "4) mulitmodaler asaint ( sparche, adaptiv, vs mischung) vergleich\n",
    "5) vr bedingun avator vs ar bendiung \n",
    "6) alleine nutzung vs mit vielen benutzen (vr vs ar?)\n",
    "7) teset wi tgu rassaient\n",
    "8) teset llm in musuem// public spaces\n",
    "9) wi egut in public spaces anwednabr\n",
    "10) within design: test unterschied zwischen einem user\n",
    "11) teste unterschied zwischen verschiedenen user, 1 user spricht, anere ruhig, was hat das für einen einfluss?"
   ]
  },
  {
   "cell_type": "markdown",
   "metadata": {},
   "source": [
    "## Studiendesign\n",
    "## Ideen zu \"ausprägungen des Multiomodaler Assisent\"\n",
    "1. Frage: \"Wie gut ist er?\n",
    "2. welcher assisent ist der beste: sprache, adaptiver knopfdruck, mischung -> testen der drei möglichkeiten\n",
    "\n",
    "\n",
    "## ideen \"ist ein asssiant nützlich?\n",
    "1. assisant vs no assisanet (normaler Bescuh mit Tablet)\n",
    "2. Verbessert der assisent das Lernen ? \n",
    "- pre und posttest der studienteilnehmer über lerninhalt\n",
    "- teilnhemer mit assiant vs. teilnehmer ohne assisent\n",
    "\n",
    "# ideen \" wie ist der mueseumbesuch mit dem assisnetne?\"\n",
    "1. vr bedingun avator vs AR bendiung \n",
    "2. alleinige nutzung in VR vs mit vielen benutzen in AR -> welche ausweirkungen haben ander nutzer, ist man gehemmt?\n",
    "\n",
    "# ideen \"assisent in public spaces, ausprägung im museumsbereich\"\n",
    "\n",
    "\n",
    "within Design: teset unterschied zwischen einem User (mit assiant, ohne assisant), verschiedene Modi des assianet\n",
    "oder between design: verschiedene studies haben vershciede versuchsbedingungen. \n",
    "\n"
   ]
  },
  {
   "cell_type": "markdown",
   "metadata": {},
   "source": [
    "## Studiendesign\n",
    "1. Ausprägungen des Multimodalen Assistenten\n",
    "* Frage: „Wie gut ist der multimodale Assistent?“\n",
    "\n",
    "* Frage: „Welcher Assistent wird genutzt?“\n",
    "Ziel: Vergleich der verschiedenen Arten von Assistenten (Sprache, adaptiver Knopfdruck, Mischung von Sprache und adaptiver Knopfdruck).\n",
    "* integierre Sprache und adaptiver knopfdruck in eine studie, schau welche funktion teilnehmer öfter benutzen.\n",
    "\n",
    "2. Verbessert ein Assistent das Usererlebnis?\n",
    "* Assistent vs. Kein Assistent (Normaler Besuch mit Tablet): wie ist das usererlbenis? \n",
    "\n",
    "* Verbessert der Assistent das Lernen?\n",
    "Methode: Pre- und Posttest: Teste das Wissen der Teilnehmer:innen zu einem bestimmten Lerninhalt vor und nach der Nutzung des Assistenten.\n",
    "\n",
    "\n",
    "3. Wie ist der Museumsbesuch mit dem Assistenten?\n",
    "* VR-Bedingung (Avatar) vs. AR-Bedingung\n",
    "* Alleinige Nutzung in VR vs. Mit vielen Benutzern in AR – Auswirkungen auf das Nutzererlebnis, hemmung usw.\n",
    "\n",
    "\n",
    "4. Assistent in öffentlichen Räumen / Museumsbereich\n",
    "Assistent in öffentlichen Räumen – Anwendung in Museumsbereichen\n",
    "Fragestellung: Wie gut funktioniert der Assistent in einer öffentlichen, oft überfüllten Umgebung? Wie verbessern oder stören sie das Nutzererlebnis?\n",
    "\n",
    "\n",
    "Designs:\n",
    "1. Within-Design (Vergleich innerhalb eines Nutzers)\n",
    "* Test des Unterschieds zwischen einem User (mit Assistent vs. ohne Assistent), evtl. verschiedene Mueseumsräume\n",
    "Ziel: Testen, wie sich das Nutzererlebnis innerhalb einer Person verändert, je nachdem, ob sie mit oder ohne Assistent arbeitet.\n",
    "Fragestellung: Wie beeinflusst der Einsatz eines Assistenten die Interaktion und das Ergebnis für denselben Nutzer?\n",
    "\n",
    "* Test verschiedener Modi des Assistenten (Sprache, Knopfdruck, Mischung)\n",
    "Ziel: Untersuchen, wie unterschiedliche Modi eines Assistenten (Sprache, Knopfdruck, gemischte Modalitäten) die Nutzererfahrung beeinflussen.\n",
    "Fragestellung: Welcher Modus ist für den Nutzer am effektivsten?\n",
    "\n",
    "2. Between-Design (Vergleich zwischen verschiedenen Studien oder Bedingungen)\n",
    "Verschiedene Versuchsbedingungen in unterschiedlichen Studien\n",
    "\n",
    "\n",
    "\n"
   ]
  },
  {
   "cell_type": "markdown",
   "metadata": {},
   "source": []
  }
 ],
 "metadata": {
  "language_info": {
   "name": "python"
  }
 },
 "nbformat": 4,
 "nbformat_minor": 2
}
