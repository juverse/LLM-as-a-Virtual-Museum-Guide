{
 "cells": [
  {
   "cell_type": "markdown",
   "id": "76c5d039",
   "metadata": {},
   "source": [
    "## A Priori Poweranalyse"
   ]
  },
  {
   "cell_type": "markdown",
   "id": "317de48f",
   "metadata": {},
   "source": [
    "Effektstärke (Effect Size): Wie groß ist der Unterschied, den du erwartest?\n",
    "\n",
    "Signifikanzniveau (Alpha): Meist 0.05 – die Wahrscheinlichkeit, einen Fehler 1. Art zu machen (also einen Effekt zu finden, obwohl keiner existiert).\n",
    "\n",
    "Power (1 - Beta): Meist 0.80 oder 0.90 – die Wahrscheinlichkeit, einen echten Effekt zu finden.\n",
    "\n",
    "Testart / Design: z. B. ANOVA bei mehreren Gruppen, t-Test bei zwei Gruppen usw."
   ]
  },
  {
   "cell_type": "markdown",
   "id": "9c722d33",
   "metadata": {},
   "source": [
    "## Studiendesign:\n",
    "ausgehnde von virtu wander (mehr passives und aktives LLM)\n",
    "\n",
    "### Unabhängige Variable:\n",
    "insgesamt: vlt ein knopfdruck um llm zu pausieren und zu starten?\n",
    "* Interaktionsmodus des Assistenten (3 Gruppen):\n",
    "* Sprache \n",
    "* Knopf (mehr Informationen)\n",
    "* Kombination \n",
    "* (evtl. Kontrollgruppe?)\n",
    "\n",
    "### Abhängige Variablen:\n",
    "* Nutzungshäufigkeit (z. B. wie oft verwendet)\n",
    "* Wahrgenommene Effizienz (Fragebogen)\n",
    "* Nutzungsdauer\n",
    "\n",
    "Design:\n",
    "→ Between-Subjects ANOVA: Du vergleichst 3 unabhängige Gruppen.\n",
    "\n",
    "### Effektstärke schätzen\n",
    "Cohen’s f für ANOVA:\n",
    "Klein: 0.10\n",
    "Mittel: 0.25\n",
    "Groß: 0.40"
   ]
  },
  {
   "cell_type": "markdown",
   "id": "0b60fe1d",
   "metadata": {},
   "source": [
    "## Knopf: \n",
    "wenn man reinkommt, kurze vorstellung des guides\n",
    "ein knopf: erzähle mir mehr\n",
    "ein knopf: erzähle mir weniger\n",
    "ein knopf: bitte pausieren\n",
    "\n",
    "## Sprache\n",
    "\n",
    "\n"
   ]
  },
  {
   "cell_type": "markdown",
   "id": "57037be0",
   "metadata": {},
   "source": [
    "## between subject design"
   ]
  },
  {
   "cell_type": "code",
   "execution_count": 12,
   "id": "8cd414d1",
   "metadata": {},
   "outputs": [
    {
     "name": "stdout",
     "output_type": "stream",
     "text": [
      "Benötigte Gesamtanzahl an Versuchspersonen: 157\n"
     ]
    }
   ],
   "source": [
    "from statsmodels.stats.power import FTestAnovaPower\n",
    "\n",
    "# Effektstärke: mittel (f = 0.25)\n",
    "effect_size = 0.25\n",
    "\n",
    "# Signifikanzniveau\n",
    "alpha = 0.05\n",
    "\n",
    "# Gewünschte Power\n",
    "power = 0.80\n",
    "\n",
    "# Anzahl der Gruppen (z.B. Sprachassistent, Knopf, Kombination)\n",
    "k = 3\n",
    "\n",
    "analysis = FTestAnovaPower()\n",
    "sample_size = analysis.solve_power(effect_size=effect_size, alpha=alpha, power=power, k_groups=k)\n",
    "print(f\"Benötigte Gesamtanzahl an Versuchspersonen: {round(sample_size)}\")\n"
   ]
  },
  {
   "cell_type": "code",
   "execution_count": 13,
   "id": "58228fc8",
   "metadata": {},
   "outputs": [
    {
     "name": "stdout",
     "output_type": "stream",
     "text": [
      "Benötigte Gesamtanzahl an Versuchspersonen: 63\n"
     ]
    }
   ],
   "source": [
    "# Effektstärke: mittel (f = 0.25)\n",
    "effect_size = 0.4\n",
    "\n",
    "# Signifikanzniveau\n",
    "alpha = 0.05\n",
    "\n",
    "# Gewünschte Power\n",
    "power = 0.80\n",
    "\n",
    "# Anzahl der Gruppen (z.B. Sprachassistent, Knopf, Kombination)\n",
    "k = 3\n",
    "\n",
    "analysis = FTestAnovaPower()\n",
    "sample_size = analysis.solve_power(effect_size=effect_size, alpha=alpha, power=power, k_groups=k)\n",
    "print(f\"Benötigte Gesamtanzahl an Versuchspersonen: {round(sample_size)}\")\n"
   ]
  },
  {
   "cell_type": "code",
   "execution_count": 17,
   "id": "217eb180",
   "metadata": {},
   "outputs": [
    {
     "name": "stdout",
     "output_type": "stream",
     "text": [
      "Nachweisbare Effektstärke mit 80 VPs: f = 0.379\n"
     ]
    }
   ],
   "source": [
    "from statsmodels.stats.power import FTestAnovaPower\n",
    "\n",
    "# Parameter\n",
    "n = 80              # Gesamtzahl VPs\n",
    "alpha = 0.05        # Signifikanzniveau\n",
    "power = 0.80        # Ziel-Power\n",
    "k = 4               # Gruppenanzahl\n",
    "\n",
    "# Analyse starten\n",
    "analysis = FTestAnovaPower()\n",
    "effect_size = analysis.solve_power(nobs=n, alpha=alpha, power=power, k_groups=k)\n",
    "print(f\"Nachweisbare Effektstärke mit 80 VPs: f = {effect_size:.3f}\")\n"
   ]
  },
  {
   "cell_type": "markdown",
   "id": "963aac24",
   "metadata": {},
   "source": [
    "### within subject design\n",
    "alle drei (vier) bedinigungen von einer person "
   ]
  },
  {
   "cell_type": "code",
   "execution_count": null,
   "id": "1a16729b",
   "metadata": {},
   "outputs": [
    {
     "name": "stdout",
     "output_type": "stream",
     "text": [
      "Benötigte Teilnehmerzahl: 27\n"
     ]
    }
   ],
   "source": [
    "import pingouin as pg\n",
    "\n",
    "# Poweranalyse für Repeated Measures ANOVA (within-subject)\n",
    "# Parameter:\n",
    "# - ef = Effektgröße (Cohen's f) → z. B. 0.25 = mittlerer Effekt\n",
    "# - eta_sqaured = η² = 0.01 (klein), η² = 0.06 (mittel), η² = 0.14 (groß)\n",
    "# - k = Anzahl der Bedingungen (3 Interaktionsmodi)\n",
    "# - n = Teilnehmerzahl (oder berechne sie)\n",
    "# - power = gewünschte Power (z. B. 0.8)\n",
    "# - alpha = Signifikanzniveau\n",
    "\n",
    "# eta_squared η² = erklärte Varianz / Gesamtvarianz\n",
    "# Berechne benötigte Stichprobengröße bei gegebenem Effekt\n",
    "# mittlerer effektstärke\n",
    "power_analysis =  pg.power_rm_anova(eta_squared=0.06, m=3, power=0.80, alpha = 0.05)\n",
    "n: 15.9979\n",
    "\n",
    "print(f\"Benötigte Teilnehmerzahl: {round(power_analysis)}\")\n"
   ]
  },
  {
   "cell_type": "code",
   "execution_count": null,
   "id": "a794fdbc",
   "metadata": {},
   "outputs": [],
   "source": []
  }
 ],
 "metadata": {
  "kernelspec": {
   "display_name": "test",
   "language": "python",
   "name": "python3"
  },
  "language_info": {
   "codemirror_mode": {
    "name": "ipython",
    "version": 3
   },
   "file_extension": ".py",
   "mimetype": "text/x-python",
   "name": "python",
   "nbconvert_exporter": "python",
   "pygments_lexer": "ipython3",
   "version": "3.13.2"
  }
 },
 "nbformat": 4,
 "nbformat_minor": 5
}
